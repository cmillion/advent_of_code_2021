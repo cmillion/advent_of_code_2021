{
 "cells": [
  {
   "cell_type": "code",
   "execution_count": 59,
   "id": "5bc3e7af-bd99-4cf0-8415-a5a07daec709",
   "metadata": {},
   "outputs": [
    {
     "name": "stdout",
     "output_type": "stream",
     "text": [
      "Using matplotlib backend: MacOSX\n",
      "Populating the interactive namespace from numpy and matplotlib\n"
     ]
    }
   ],
   "source": [
    "%pylab\n",
    "%matplotlib inline\n",
    "from itertools import *"
   ]
  },
  {
   "cell_type": "markdown",
   "id": "c444bbb4-3a37-468e-ab43-3658348ac50c",
   "metadata": {},
   "source": [
    "### Part 1"
   ]
  },
  {
   "cell_type": "code",
   "execution_count": 29,
   "id": "947f96d1-c7fa-4a7b-93d0-68ad07ce77bd",
   "metadata": {},
   "outputs": [],
   "source": [
    "def count_easy_digits(fn):\n",
    "    with open(fn) as data:\n",
    "        n=0\n",
    "        for line in data.readlines():\n",
    "            output = line.split('|')[1].strip()\n",
    "            n+=len([digit for digit in output.split() if len(digit) in [7,4,3,2]])\n",
    "        return n"
   ]
  },
  {
   "cell_type": "code",
   "execution_count": 31,
   "id": "333b03f6-6b9d-4845-80e8-9e688890d42e",
   "metadata": {},
   "outputs": [],
   "source": [
    "assert count_easy_digits('d8p1_test.txt')==26"
   ]
  },
  {
   "cell_type": "code",
   "execution_count": 33,
   "id": "529d0992-0c4c-43ab-97bd-e2bfab0a1f82",
   "metadata": {},
   "outputs": [
    {
     "name": "stdout",
     "output_type": "stream",
     "text": [
      "The answer is 440\n"
     ]
    }
   ],
   "source": [
    "print(f\"The answer is {count_easy_digits('d8p1.txt')}\")"
   ]
  },
  {
   "cell_type": "markdown",
   "id": "3a689753-de2d-4e20-b5a4-9ff1c9d74d08",
   "metadata": {},
   "source": [
    "### Part 2\n",
    "\n",
    "This is legitimately a puzzle."
   ]
  },
  {
   "cell_type": "code",
   "execution_count": 159,
   "id": "8d196512-4c9f-4202-9ac4-36e22471a727",
   "metadata": {},
   "outputs": [],
   "source": [
    "def solve_line(line):\n",
    "    for entry in line:\n",
    "        entry = set(''.join(sorted(entry)))\n",
    "        if len(entry)==2:\n",
    "            one = entry\n",
    "        elif len(entry)==3:\n",
    "            seven = entry\n",
    "        elif len(entry)==4:\n",
    "            four = entry\n",
    "        elif len(entry)==7:\n",
    "            eight = entry\n",
    "\n",
    "    for entry in line:\n",
    "        entry = set(''.join(sorted(entry)))\n",
    "        if len(entry)==5:\n",
    "            if entry & seven == seven:\n",
    "                three = entry\n",
    "            elif (eight - four) & entry == (eight - four):\n",
    "                two = entry\n",
    "            else:\n",
    "                five = entry\n",
    "        elif len(entry)==6:\n",
    "            if entry & seven != seven:\n",
    "                six = entry\n",
    "            elif (eight - four) & entry == (eight - four):\n",
    "                zero = entry\n",
    "            else:\n",
    "                nine = entry\n",
    "\n",
    "    output = ''\n",
    "    for entry in line[-4:]:\n",
    "        entry = set(''.join(sorted(entry)))\n",
    "        if entry==zero:\n",
    "            output+='0'\n",
    "        elif entry==one:\n",
    "            output+='1'\n",
    "        elif entry==two:\n",
    "            output+='2'\n",
    "        elif entry==three:\n",
    "            output+='3'\n",
    "        elif entry==four:\n",
    "            output+='4'\n",
    "        elif entry==five:\n",
    "            output+='5'\n",
    "        elif entry==six:\n",
    "            output+='6'\n",
    "        elif entry==seven:\n",
    "            output+='7'\n",
    "        elif entry==eight:\n",
    "            output+='8'\n",
    "        elif entry==nine:\n",
    "            output+='9'\n",
    "        else:\n",
    "            print(f'Failure with {entry}')\n",
    "    return int(output)"
   ]
  },
  {
   "cell_type": "code",
   "execution_count": 160,
   "id": "3089508b-5133-4316-b0d3-acc8bf02ce4c",
   "metadata": {},
   "outputs": [],
   "source": [
    "def solve_table(fn):\n",
    "    total = 0\n",
    "    with open(fn) as data:\n",
    "        for line in data.readlines():\n",
    "            line = line.split()\n",
    "            line.pop(10)\n",
    "            total+=solve_line(line)\n",
    "    return total"
   ]
  },
  {
   "cell_type": "code",
   "execution_count": 162,
   "id": "f23ba2f1-a159-47f3-9c49-52eaa68542fb",
   "metadata": {},
   "outputs": [],
   "source": [
    "assert solve_table('d8p1_test.txt')==61229"
   ]
  },
  {
   "cell_type": "code",
   "execution_count": 163,
   "id": "7e3a2831-8217-415e-ad7d-ca40ebb3cc07",
   "metadata": {},
   "outputs": [
    {
     "name": "stdout",
     "output_type": "stream",
     "text": [
      "The answer is 1046281\n"
     ]
    }
   ],
   "source": [
    "print(f'The answer is {solve_table(\"d8p1.txt\")}')"
   ]
  },
  {
   "cell_type": "code",
   "execution_count": null,
   "id": "d609e14c-9046-407a-961f-6abf032df35d",
   "metadata": {},
   "outputs": [],
   "source": []
  }
 ],
 "metadata": {
  "kernelspec": {
   "display_name": "Python 3 (ipykernel)",
   "language": "python",
   "name": "python3"
  },
  "language_info": {
   "codemirror_mode": {
    "name": "ipython",
    "version": 3
   },
   "file_extension": ".py",
   "mimetype": "text/x-python",
   "name": "python",
   "nbconvert_exporter": "python",
   "pygments_lexer": "ipython3",
   "version": "3.9.7"
  }
 },
 "nbformat": 4,
 "nbformat_minor": 5
}
