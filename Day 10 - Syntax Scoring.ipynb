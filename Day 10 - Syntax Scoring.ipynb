{
 "cells": [
  {
   "cell_type": "code",
   "execution_count": 1,
   "id": "3aaeb425-2d63-4211-ba4e-fe4a94751e44",
   "metadata": {},
   "outputs": [
    {
     "name": "stdout",
     "output_type": "stream",
     "text": [
      "Using matplotlib backend: <object object at 0x115b4fb10>\n",
      "Populating the interactive namespace from numpy and matplotlib\n"
     ]
    }
   ],
   "source": [
    "%pylab\n",
    "%matplotlib inline"
   ]
  },
  {
   "cell_type": "markdown",
   "id": "8362c5fd-ad48-40eb-9e75-7e3dafbfdb0a",
   "metadata": {},
   "source": [
    "### Part 1"
   ]
  },
  {
   "cell_type": "code",
   "execution_count": 54,
   "id": "272066f8-015c-442f-9c2e-9c025815bfa3",
   "metadata": {},
   "outputs": [],
   "source": [
    "def has_pair(line):\n",
    "    return (('()' in line) or\n",
    "            ('[]' in line) or\n",
    "            ('{}' in line) or\n",
    "            ('<>' in line))\n",
    "\n",
    "openers = '([{<'\n",
    "closers = ')]}>'\n",
    "\n",
    "def reduce_corrupted(line):\n",
    "    while has_pair(line):\n",
    "        for pair in ['()','[]','{}','<>']:\n",
    "            line = line.replace(pair,'')\n",
    "    while True:\n",
    "        if len(line):\n",
    "            if line[-1] in openers:\n",
    "                line = line[:-1]\n",
    "            else:\n",
    "                break\n",
    "        else:\n",
    "            break\n",
    "    return(line)"
   ]
  },
  {
   "cell_type": "code",
   "execution_count": 85,
   "id": "35a988b7-021c-4860-aeea-12067cab0b6f",
   "metadata": {},
   "outputs": [],
   "source": [
    "def find_first_bad_closer(reduced):\n",
    "    first_closers = []\n",
    "    for c in closers:\n",
    "        ix = reduced.find(c)\n",
    "        if ix!=-1:\n",
    "            first_closers+=[ix]\n",
    "    return reduced[min(first_closers)]"
   ]
  },
  {
   "cell_type": "code",
   "execution_count": 86,
   "id": "4f2c973b-f32f-419b-afb3-7d5cf17235cb",
   "metadata": {},
   "outputs": [],
   "source": [
    "score_closers = {')':3,\n",
    "                 ']':57,\n",
    "                 '}':1197,\n",
    "                 '>':25137}"
   ]
  },
  {
   "cell_type": "code",
   "execution_count": 87,
   "id": "46ffda65-5e4e-459d-a697-945af15ff5a7",
   "metadata": {},
   "outputs": [],
   "source": [
    "def score_first_bad_closers(fn):\n",
    "    #fn = 'd10p1_test.txt'\n",
    "    score = 0\n",
    "    with open(fn) as data:\n",
    "        for line in data.readlines():\n",
    "            line=line.strip()\n",
    "            reduced = reduce_corrupted(line)\n",
    "            if not reduced: # merely incomplete\n",
    "                continue\n",
    "            bc = find_first_bad_closer(reduced)\n",
    "            score+=score_closers[bc]\n",
    "    return score"
   ]
  },
  {
   "cell_type": "code",
   "execution_count": 89,
   "id": "97ef3775-a8e8-446a-b060-c572c1dbddc4",
   "metadata": {},
   "outputs": [],
   "source": [
    "assert score_first_bad_closers('d10p1_test.txt')==26397"
   ]
  },
  {
   "cell_type": "code",
   "execution_count": 91,
   "id": "b96d50b6-2f24-4830-b590-2d9eb31d3d6c",
   "metadata": {},
   "outputs": [
    {
     "name": "stdout",
     "output_type": "stream",
     "text": [
      "The answer is 344193\n"
     ]
    }
   ],
   "source": [
    "print(f\"The answer is {score_first_bad_closers('d10p1.txt')}\")"
   ]
  },
  {
   "cell_type": "markdown",
   "id": "a9e2a75c-c431-4d6e-ac90-a8ee918b0e96",
   "metadata": {},
   "source": [
    "### Part 2"
   ]
  },
  {
   "cell_type": "code",
   "execution_count": 98,
   "id": "2ce9a6f1-339b-4071-bbf9-2db380556c12",
   "metadata": {},
   "outputs": [],
   "source": [
    "def discard_corrupted(line):\n",
    "    ogline=line\n",
    "    while has_pair(line):\n",
    "        for pair in ['()','[]','{}','<>']:\n",
    "            line = line.replace(pair,'')\n",
    "    while True:\n",
    "        if len(line):\n",
    "            if line[-1] in openers:\n",
    "                line = line[:-1]\n",
    "            else:\n",
    "                break\n",
    "        else:\n",
    "            break\n",
    "    if not len(line):\n",
    "        return ogline"
   ]
  },
  {
   "cell_type": "code",
   "execution_count": 112,
   "id": "467094eb-77f1-4d83-ae65-cba31147bbd2",
   "metadata": {},
   "outputs": [],
   "source": [
    "def score_completion_string(comp):\n",
    "    rubric = {')':1,']':2,'}':3,'>':4}\n",
    "    score = 0\n",
    "    for c in comp:\n",
    "        score*=5\n",
    "        score+=rubric[c]\n",
    "    return score\n",
    "\n",
    "assert score_completion_string('])}>')==294"
   ]
  },
  {
   "cell_type": "code",
   "execution_count": 129,
   "id": "ce1b0b62-7ff1-47c3-9592-afcf2bb195d3",
   "metadata": {},
   "outputs": [],
   "source": [
    "def score_autocomplete(fn):\n",
    "    scores = []\n",
    "    with open(fn) as data:\n",
    "        for line in data.readlines():\n",
    "            line=line.strip()\n",
    "            line = discard_corrupted(line)\n",
    "            if line is None:\n",
    "                continue\n",
    "            # reduce the line -- should only leave opening characters\n",
    "            while has_pair(line):\n",
    "                for pair in ['()','[]','{}','<>']:\n",
    "                    line = line.replace(pair,'')\n",
    "            # generate completetion string -- reverse and replace with closers\n",
    "            completion=line.replace('(',')').replace('[',']').replace('{','}').replace('<','>')[::-1]\n",
    "            #print(completion)\n",
    "            scores += [score_completion_string(completion)]\n",
    "    #print(scores)\n",
    "    #print(np.sort(scores))\n",
    "    return np.sort(scores)[int(np.floor(len(scores)/2))]"
   ]
  },
  {
   "cell_type": "code",
   "execution_count": 132,
   "id": "785c313f-10d5-4fd3-801d-45a13e05cbf6",
   "metadata": {},
   "outputs": [],
   "source": [
    "assert score_autocomplete('d10p1_test.txt')==288957 "
   ]
  },
  {
   "cell_type": "code",
   "execution_count": 134,
   "id": "eae54bc4-8ebc-492a-90e6-8f3c531bf144",
   "metadata": {},
   "outputs": [
    {
     "name": "stdout",
     "output_type": "stream",
     "text": [
      "The answer is 3241238967\n"
     ]
    }
   ],
   "source": [
    "print(f\"The answer is {score_autocomplete('d10p1.txt')}\")"
   ]
  },
  {
   "cell_type": "code",
   "execution_count": null,
   "id": "fa156175-788d-4e81-944c-14b6655daa3c",
   "metadata": {},
   "outputs": [],
   "source": []
  }
 ],
 "metadata": {
  "kernelspec": {
   "display_name": "Python 3 (ipykernel)",
   "language": "python",
   "name": "python3"
  },
  "language_info": {
   "codemirror_mode": {
    "name": "ipython",
    "version": 3
   },
   "file_extension": ".py",
   "mimetype": "text/x-python",
   "name": "python",
   "nbconvert_exporter": "python",
   "pygments_lexer": "ipython3",
   "version": "3.9.7"
  }
 },
 "nbformat": 4,
 "nbformat_minor": 5
}
