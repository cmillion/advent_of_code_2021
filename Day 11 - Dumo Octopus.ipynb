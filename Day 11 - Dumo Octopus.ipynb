{
 "cells": [
  {
   "cell_type": "code",
   "execution_count": 1,
   "id": "2e245a59-0cfd-4bfb-a5e7-50b8057e99d1",
   "metadata": {},
   "outputs": [
    {
     "name": "stdout",
     "output_type": "stream",
     "text": [
      "Using matplotlib backend: <object object at 0x10da65b10>\n",
      "Populating the interactive namespace from numpy and matplotlib\n"
     ]
    }
   ],
   "source": [
    "%pylab\n",
    "%matplotlib inline"
   ]
  },
  {
   "cell_type": "markdown",
   "id": "6c03f1e0-8f68-4ffb-96dc-c1780e79802d",
   "metadata": {},
   "source": [
    "### Part 1"
   ]
  },
  {
   "cell_type": "code",
   "execution_count": 2,
   "id": "254c004f-a865-405b-ac2f-7991eb9c7ee7",
   "metadata": {},
   "outputs": [],
   "source": [
    "def load_map(fn):\n",
    "    octopus_map = []\n",
    "    with open(fn) as data:\n",
    "        for row in data:\n",
    "            row = row.strip()\n",
    "            octopus_map+=[[int(i) for i in row]]\n",
    "    return octopus_map"
   ]
  },
  {
   "cell_type": "code",
   "execution_count": 3,
   "id": "a90d5e4b-5ce0-4128-92fd-bbec0b8b9429",
   "metadata": {},
   "outputs": [
    {
     "data": {
      "text/plain": [
       "array([[5, 4, 8, 3, 1, 4, 3, 2, 2, 3],\n",
       "       [2, 7, 4, 5, 8, 5, 4, 7, 1, 1],\n",
       "       [5, 2, 6, 4, 5, 5, 6, 1, 7, 3],\n",
       "       [6, 1, 4, 1, 3, 3, 6, 1, 4, 6],\n",
       "       [6, 3, 5, 7, 3, 8, 5, 4, 7, 8],\n",
       "       [4, 1, 6, 7, 5, 2, 4, 6, 4, 5],\n",
       "       [2, 1, 7, 6, 8, 4, 1, 7, 2, 1],\n",
       "       [6, 8, 8, 2, 8, 8, 1, 1, 3, 4],\n",
       "       [4, 8, 4, 6, 8, 4, 8, 5, 5, 4],\n",
       "       [5, 2, 8, 3, 7, 5, 1, 5, 2, 6]])"
      ]
     },
     "metadata": {},
     "output_type": "display_data"
    }
   ],
   "source": [
    "fn = 'd11p1_test.txt'\n",
    "octopus_map = np.array(load_map(fn))\n",
    "display(octopus_map)"
   ]
  },
  {
   "cell_type": "code",
   "execution_count": 4,
   "id": "66103c51-2e4c-4d98-bcb9-e4dc3de0c70a",
   "metadata": {},
   "outputs": [
    {
     "data": {
      "text/plain": [
       "array([[6, 5, 9, 4, 2, 5, 4, 3, 3, 4],\n",
       "       [3, 8, 5, 6, 9, 6, 5, 8, 2, 2],\n",
       "       [6, 3, 7, 5, 6, 6, 7, 2, 8, 4],\n",
       "       [7, 2, 5, 2, 4, 4, 7, 2, 5, 7],\n",
       "       [7, 4, 6, 8, 4, 9, 6, 5, 8, 9],\n",
       "       [5, 2, 7, 8, 6, 3, 5, 7, 5, 6],\n",
       "       [3, 2, 8, 7, 9, 5, 2, 8, 3, 2],\n",
       "       [7, 9, 9, 3, 9, 9, 2, 2, 4, 5],\n",
       "       [5, 9, 5, 7, 9, 5, 9, 6, 6, 5],\n",
       "       [6, 3, 9, 4, 8, 6, 2, 6, 3, 7]])"
      ]
     },
     "metadata": {},
     "output_type": "display_data"
    },
    {
     "data": {
      "text/plain": [
       "array([[ 7,  6, 10,  5,  3,  6,  5,  4,  4,  5],\n",
       "       [ 4,  9,  6,  7, 10,  7,  6,  9,  3,  3],\n",
       "       [ 7,  4,  8,  6,  7,  7,  8,  3,  9,  5],\n",
       "       [ 8,  3,  6,  3,  5,  5,  8,  3,  6,  8],\n",
       "       [ 8,  5,  7,  9,  5, 10,  7,  6,  9, 10],\n",
       "       [ 6,  3,  8,  9,  7,  4,  6,  8,  6,  7],\n",
       "       [ 4,  3,  9,  8, 10,  6,  3,  9,  4,  3],\n",
       "       [ 8, 10, 10,  4, 10, 10,  3,  3,  5,  6],\n",
       "       [ 6, 10,  6,  8, 10,  6, 10,  7,  7,  6],\n",
       "       [ 7,  4, 10,  5,  9,  7,  3,  7,  4,  8]])"
      ]
     },
     "metadata": {},
     "output_type": "display_data"
    }
   ],
   "source": [
    "octopus_map = np.array(load_map(fn))\n",
    "sz = np.shape(octopus_map)\n",
    "\n",
    "for i in range(2):\n",
    "    octopus_map=octopus_map+1\n",
    "    display(octopus_map)"
   ]
  },
  {
   "cell_type": "code",
   "execution_count": 5,
   "id": "b5b60b2b-9a6a-4fa8-af0c-6794395afefb",
   "metadata": {},
   "outputs": [
    {
     "name": "stdout",
     "output_type": "stream",
     "text": [
      "(array([], dtype=int64), array([], dtype=int64))\n"
     ]
    },
    {
     "data": {
      "text/plain": [
       "0"
      ]
     },
     "execution_count": 5,
     "metadata": {},
     "output_type": "execute_result"
    }
   ],
   "source": [
    "ix = np.where(octopus_map==20)\n",
    "print(ix)\n",
    "len(ix[0])"
   ]
  },
  {
   "cell_type": "code",
   "execution_count": 16,
   "id": "524592bd-28c3-4202-8e84-a33ad3f2a068",
   "metadata": {},
   "outputs": [],
   "source": [
    "def flash_octopi(fn,nsteps=100):\n",
    "    octopus_map = np.array(load_map(fn))\n",
    "    sz = np.shape(octopus_map)\n",
    "    nflashes = 0\n",
    "    for i in range(nsteps):\n",
    "        hasflashed = np.zeros(np.shape(octopus_map))\n",
    "        octopus_map=octopus_map+1\n",
    "        while True:\n",
    "            ix = np.where((octopus_map>=10) & (hasflashed==0))\n",
    "            #print(ix)\n",
    "            if not len(ix[0]):\n",
    "                break\n",
    "            for pos in zip(ix[0],ix[1]):\n",
    "                nflashes+=1\n",
    "                hasflashed[pos]=1\n",
    "                octopus_map[max(pos[0]-1,0):min(pos[0]+2,sz[0]),\n",
    "                            max(pos[1]-1,0):min(pos[1]+2,sz[1])]+=1\n",
    "            if np.sum(hasflashed)==100:\n",
    "                print(f'Synchronized at {i+1}')\n",
    "        octopus_map[np.where(octopus_map>10)]=0\n",
    "    #print(octopus_map)\n",
    "    return(nflashes)"
   ]
  },
  {
   "cell_type": "code",
   "execution_count": 17,
   "id": "1f66fd3c-08da-4a35-8398-5c71f97ba449",
   "metadata": {},
   "outputs": [],
   "source": [
    "assert flash_octopi('d11p1_test.txt')==1656"
   ]
  },
  {
   "cell_type": "code",
   "execution_count": 18,
   "id": "7bac3988-716b-4d12-af1d-694e19c20038",
   "metadata": {},
   "outputs": [
    {
     "name": "stdout",
     "output_type": "stream",
     "text": [
      "The answer is 1620\n"
     ]
    }
   ],
   "source": [
    "print(f\"The answer is {flash_octopi('d11p1.txt')}\")"
   ]
  },
  {
   "cell_type": "markdown",
   "id": "4564654b-24b3-4603-8912-29d1aeb58e88",
   "metadata": {},
   "source": [
    "### Part 2"
   ]
  },
  {
   "cell_type": "code",
   "execution_count": 19,
   "id": "5852e54f-3d3e-49d0-b09b-84bda52acc8e",
   "metadata": {},
   "outputs": [
    {
     "name": "stdout",
     "output_type": "stream",
     "text": [
      "Synchronized at 195\n"
     ]
    },
    {
     "data": {
      "text/plain": [
       "3125"
      ]
     },
     "execution_count": 19,
     "metadata": {},
     "output_type": "execute_result"
    }
   ],
   "source": [
    "# Having just modified the function above to print when synchronized...\n",
    "flash_octopi('d11p1_test.txt',nsteps=200) # test"
   ]
  },
  {
   "cell_type": "code",
   "execution_count": 21,
   "id": "3d110057-4a56-4d2d-8898-351d3ed763e3",
   "metadata": {},
   "outputs": [
    {
     "name": "stdout",
     "output_type": "stream",
     "text": [
      "Synchronized at 371\n",
      "Synchronized at 381\n",
      "Synchronized at 391\n"
     ]
    },
    {
     "data": {
      "text/plain": [
       "5904"
      ]
     },
     "execution_count": 21,
     "metadata": {},
     "output_type": "execute_result"
    }
   ],
   "source": [
    "flash_octopi('d11p1.txt',nsteps=400) # first printed response is the answer"
   ]
  },
  {
   "cell_type": "code",
   "execution_count": null,
   "id": "7dcbf6b1-2899-490c-94c4-1f98f1ff6513",
   "metadata": {},
   "outputs": [],
   "source": []
  }
 ],
 "metadata": {
  "kernelspec": {
   "display_name": "Python 3 (ipykernel)",
   "language": "python",
   "name": "python3"
  },
  "language_info": {
   "codemirror_mode": {
    "name": "ipython",
    "version": 3
   },
   "file_extension": ".py",
   "mimetype": "text/x-python",
   "name": "python",
   "nbconvert_exporter": "python",
   "pygments_lexer": "ipython3",
   "version": "3.9.7"
  }
 },
 "nbformat": 4,
 "nbformat_minor": 5
}
