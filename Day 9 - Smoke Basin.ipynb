{
 "cells": [
  {
   "cell_type": "code",
   "execution_count": 1,
   "id": "1ecbeb07-7bf9-4e73-8e8c-8d13e4c7be2a",
   "metadata": {},
   "outputs": [
    {
     "name": "stdout",
     "output_type": "stream",
     "text": [
      "Using matplotlib backend: <object object at 0x10fbc2b10>\n",
      "Populating the interactive namespace from numpy and matplotlib\n"
     ]
    }
   ],
   "source": [
    "%pylab\n",
    "%matplotlib inline"
   ]
  },
  {
   "cell_type": "markdown",
   "id": "bd1998a8-2a6e-4c17-b5bc-fcec0fbf27b9",
   "metadata": {},
   "source": [
    "### Part 1"
   ]
  },
  {
   "cell_type": "code",
   "execution_count": 2,
   "id": "609238bb-8bb4-4ce4-a12e-2ccfb12fce02",
   "metadata": {},
   "outputs": [],
   "source": [
    "fn = 'd9p1_test.txt'\n",
    "def read_table(fn):\n",
    "    table = []\n",
    "    with open(fn) as data:\n",
    "        for row in data:\n",
    "            row_arr = [int(i) for i in row.strip()]\n",
    "            table+=[row_arr]\n",
    "    return table"
   ]
  },
  {
   "cell_type": "code",
   "execution_count": 3,
   "id": "28421ec8-55c8-4a59-93dc-edaef8835899",
   "metadata": {},
   "outputs": [],
   "source": [
    "def assess_risk(table):\n",
    "    nrow,ncol=np.shape(table)\n",
    "    lowrisk = 0\n",
    "    for i in range(nrow):\n",
    "        for j in range(ncol):\n",
    "            try:\n",
    "                if table[i][j]>=table[i][j+1]:\n",
    "                    continue\n",
    "            except IndexError:\n",
    "                pass\n",
    "            \n",
    "            if j!=0:\n",
    "                try:\n",
    "                    if table[i][j]>=table[i][j-1]:\n",
    "                        continue\n",
    "                except IndexError:\n",
    "                    pass\n",
    "\n",
    "            try:\n",
    "                if table[i][j]>=table[i+1][j]:\n",
    "                    continue\n",
    "            except IndexError:\n",
    "                pass\n",
    "\n",
    "            if i!=0:\n",
    "                try:\n",
    "                    if table[i][j]>=table[i-1][j]:\n",
    "                        continue\n",
    "                except IndexError:\n",
    "                    pass\n",
    "            lowrisk+=(table[i][j]+1)\n",
    "    return lowrisk"
   ]
  },
  {
   "cell_type": "code",
   "execution_count": 11,
   "id": "8cc254db-ea45-41dd-9eda-f6ab561bbc05",
   "metadata": {},
   "outputs": [],
   "source": [
    "fn = 'd9p1_test.txt'\n",
    "table = read_table(fn)\n",
    "#display(table)\n",
    "assert assess_risk(table)==15"
   ]
  },
  {
   "cell_type": "code",
   "execution_count": 9,
   "id": "96ceffba-8516-415e-8e56-8bd872174846",
   "metadata": {},
   "outputs": [
    {
     "data": {
      "text/plain": [
       "575"
      ]
     },
     "execution_count": 9,
     "metadata": {},
     "output_type": "execute_result"
    }
   ],
   "source": [
    "fn = 'd9p1.txt'\n",
    "table = read_table(fn)\n",
    "assess_risk(table)"
   ]
  },
  {
   "cell_type": "code",
   "execution_count": 44,
   "id": "5e445006-ab8b-4823-b75c-aa5cff96e450",
   "metadata": {},
   "outputs": [],
   "source": [
    "fn = 'd9p1_test.txt'\n",
    "def assess_risk_2(fn):\n",
    "    table = read_table(fn)\n",
    "    sz = np.shape(table)\n",
    "    nrow,ncol=np.shape(table)\n",
    "    basins = np.zeros(sz)\n",
    "    for row in range(sz[0]):\n",
    "        for col in range(sz[1]):\n",
    "            if (row==0) & (col==0): # top left corner\n",
    "                if ((table[row][col]<table[row+1][col]) &\n",
    "                    (table[row][col]<table[row][col+1])):\n",
    "                    basins[row][col]=1\n",
    "            elif (row==0) & (col==sz[1]-1): # top right corner\n",
    "                if ((table[row][col]<table[row+1][col]) &\n",
    "                    (table[row][col]<table[row][col-1])):\n",
    "                    basins[row][col]=1\n",
    "            elif (row==sz[0]-1) & (col==0): # bottom left corner\n",
    "                if ((table[row][col]<table[row-1][col]) &\n",
    "                    (table[row][col]<table[row][col+1])):\n",
    "                    basins[row][col]=1\n",
    "            elif (row==sz[0]-1) & (col==sz[1]-1): # bottom right corner\n",
    "                if ((table[row][col]<table[row-1][col]) &\n",
    "                    (table[row][col]<table[row][col-1])):\n",
    "                    basins[row][col]=1\n",
    "            elif row==0: # top row\n",
    "                if ((table[row][col]<table[row+1][col]) &\n",
    "                    (table[row][col]<table[row][col-1]) &\n",
    "                    (table[row][col]<table[row][col+1])):\n",
    "                    basins[row][col]=1\n",
    "            elif row==sz[0]-1: # bottom row\n",
    "                if ((table[row][col]<table[row-1][col]) &\n",
    "                    (table[row][col]<table[row][col-1]) &\n",
    "                    (table[row][col]<table[row][col+1])):\n",
    "                    basins[row][col]=1\n",
    "            elif col==0: # left column\n",
    "                if ((table[row][col]<table[row+1][col]) &\n",
    "                    (table[row][col]<table[row-1][col]) &\n",
    "                    (table[row][col]<table[row][col+1])):\n",
    "                    basins[row][col]=1\n",
    "            elif col==sz[1]-1: # right column\n",
    "                if ((table[row][col]<table[row-1][col]) &\n",
    "                    (table[row][col]<table[row+1][col]) &\n",
    "                    (table[row][col]<table[row][col-1])):\n",
    "                    basins[row][col]=1\n",
    "            else: # middle point\n",
    "                if ((table[row][col]<table[row-1][col]) &\n",
    "                    (table[row][col]<table[row+1][col]) &\n",
    "                    (table[row][col]<table[row][col-1]) &\n",
    "                    (table[row][col]<table[row][col+1])):\n",
    "                    basins[row][col]=1\n",
    "    #display(basins)\n",
    "    ix = np.where(basins==1)\n",
    "    return (np.array(table)+1)[ix].sum()"
   ]
  },
  {
   "cell_type": "code",
   "execution_count": 45,
   "id": "8f7b456c-1123-440e-95fd-b187da1bc1bc",
   "metadata": {},
   "outputs": [],
   "source": [
    "assert assess_risk_2('d9p1_test.txt')==15"
   ]
  },
  {
   "cell_type": "code",
   "execution_count": 46,
   "id": "f55ee8a9-45bd-4716-b4da-741323a4963f",
   "metadata": {},
   "outputs": [
    {
     "name": "stdout",
     "output_type": "stream",
     "text": [
      "The answer is 575\n"
     ]
    }
   ],
   "source": [
    "print(f\"The answer is {assess_risk_2('d9p1.txt')}\")"
   ]
  },
  {
   "cell_type": "markdown",
   "id": "90483b98-35e0-4304-a56a-c6931cdfbc7f",
   "metadata": {},
   "source": [
    "### Part 2"
   ]
  },
  {
   "cell_type": "code",
   "execution_count": null,
   "id": "e31bab46-5698-44d5-be2e-d62ef69ffae4",
   "metadata": {},
   "outputs": [],
   "source": []
  }
 ],
 "metadata": {
  "kernelspec": {
   "display_name": "Python 3 (ipykernel)",
   "language": "python",
   "name": "python3"
  },
  "language_info": {
   "codemirror_mode": {
    "name": "ipython",
    "version": 3
   },
   "file_extension": ".py",
   "mimetype": "text/x-python",
   "name": "python",
   "nbconvert_exporter": "python",
   "pygments_lexer": "ipython3",
   "version": "3.9.7"
  }
 },
 "nbformat": 4,
 "nbformat_minor": 5
}
