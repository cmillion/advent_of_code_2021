{
 "cells": [
  {
   "cell_type": "code",
   "execution_count": 1,
   "id": "1ecbeb07-7bf9-4e73-8e8c-8d13e4c7be2a",
   "metadata": {},
   "outputs": [
    {
     "name": "stdout",
     "output_type": "stream",
     "text": [
      "Using matplotlib backend: <object object at 0x10b473b10>\n",
      "Populating the interactive namespace from numpy and matplotlib\n"
     ]
    }
   ],
   "source": [
    "%pylab\n",
    "%matplotlib inline"
   ]
  },
  {
   "cell_type": "markdown",
   "id": "bd1998a8-2a6e-4c17-b5bc-fcec0fbf27b9",
   "metadata": {},
   "source": [
    "### Part 1"
   ]
  },
  {
   "cell_type": "code",
   "execution_count": 67,
   "id": "609238bb-8bb4-4ce4-a12e-2ccfb12fce02",
   "metadata": {},
   "outputs": [],
   "source": [
    "fn = 'd9p1_test.txt'\n",
    "def read_table(fn):\n",
    "    table = []\n",
    "    with open(fn) as data:\n",
    "        for row in data:\n",
    "            row_arr = [int(i) for i in row.strip()]\n",
    "            table+=[row_arr]\n",
    "    return table"
   ]
  },
  {
   "cell_type": "code",
   "execution_count": 119,
   "id": "28421ec8-55c8-4a59-93dc-edaef8835899",
   "metadata": {},
   "outputs": [],
   "source": [
    "def assess_risk(table):\n",
    "    nrow,ncol=np.shape(table)\n",
    "    lowrisk = 0\n",
    "    for i in range(nrow):\n",
    "        for j in range(ncol):\n",
    "            try:\n",
    "                if table[i][j]>=table[i][j+1]:\n",
    "                    continue\n",
    "            except IndexError:\n",
    "                pass\n",
    "            \n",
    "            if j!=0:\n",
    "                try:\n",
    "                    if table[i][j]>=table[i][j-1]:\n",
    "                        continue\n",
    "                except IndexError:\n",
    "                    pass\n",
    "\n",
    "            try:\n",
    "                if table[i][j]>=table[i+1][j]:\n",
    "                    continue\n",
    "            except IndexError:\n",
    "                pass\n",
    "\n",
    "            if i!=0:\n",
    "                try:\n",
    "                    if table[i][j]>=table[i-1][j]:\n",
    "                        continue\n",
    "                except IndexError:\n",
    "                    pass\n",
    "            lowrisk+=(table[i][j]+1)\n",
    "    return lowrisk"
   ]
  },
  {
   "cell_type": "code",
   "execution_count": 120,
   "id": "8cc254db-ea45-41dd-9eda-f6ab561bbc05",
   "metadata": {},
   "outputs": [
    {
     "data": {
      "text/plain": [
       "15"
      ]
     },
     "execution_count": 120,
     "metadata": {},
     "output_type": "execute_result"
    }
   ],
   "source": [
    "fn = 'd9p1_test.txt'\n",
    "table = read_table(fn)\n",
    "assess_risk(table)"
   ]
  },
  {
   "cell_type": "code",
   "execution_count": 121,
   "id": "96ceffba-8516-415e-8e56-8bd872174846",
   "metadata": {},
   "outputs": [
    {
     "data": {
      "text/plain": [
       "575"
      ]
     },
     "execution_count": 121,
     "metadata": {},
     "output_type": "execute_result"
    }
   ],
   "source": [
    "fn = 'd9p1.txt'\n",
    "table = read_table(fn)\n",
    "assess_risk(table)"
   ]
  },
  {
   "cell_type": "code",
   "execution_count": 86,
   "id": "98cccd4a-9e7f-4914-ad1c-85aa7a8a39e8",
   "metadata": {},
   "outputs": [
    {
     "ename": "SyntaxError",
     "evalue": "'return' outside function (1594890135.py, line 7)",
     "output_type": "error",
     "traceback": [
      "\u001b[0;36m  File \u001b[0;32m\"/var/folders/pm/szdr5c1j3vz19xvrxpps_wfc0000gn/T/ipykernel_19575/1594890135.py\"\u001b[0;36m, line \u001b[0;32m7\u001b[0m\n\u001b[0;31m    return lowrisk\u001b[0m\n\u001b[0m    ^\u001b[0m\n\u001b[0;31mSyntaxError\u001b[0m\u001b[0;31m:\u001b[0m 'return' outside function\n"
     ]
    }
   ],
   "source": [
    "nrow,ncol=np.shape(table)\n",
    "lowrisk = 0\n",
    "for i in range(nrow):\n",
    "    for j in range(ncol):\n",
    "        \n",
    "        lowrisk+=table[i][j]+1\n",
    "return lowrisk"
   ]
  },
  {
   "cell_type": "code",
   "execution_count": 110,
   "id": "9be9874e-f1ca-44f1-9f62-7cc2baffb4db",
   "metadata": {},
   "outputs": [
    {
     "data": {
      "text/plain": [
       "8"
      ]
     },
     "execution_count": 110,
     "metadata": {},
     "output_type": "execute_result"
    }
   ],
   "source": [
    "np.array(table)[-1][-1]"
   ]
  },
  {
   "cell_type": "code",
   "execution_count": null,
   "id": "5e445006-ab8b-4823-b75c-aa5cff96e450",
   "metadata": {},
   "outputs": [],
   "source": []
  }
 ],
 "metadata": {
  "kernelspec": {
   "display_name": "Python 3 (ipykernel)",
   "language": "python",
   "name": "python3"
  },
  "language_info": {
   "codemirror_mode": {
    "name": "ipython",
    "version": 3
   },
   "file_extension": ".py",
   "mimetype": "text/x-python",
   "name": "python",
   "nbconvert_exporter": "python",
   "pygments_lexer": "ipython3",
   "version": "3.9.7"
  }
 },
 "nbformat": 4,
 "nbformat_minor": 5
}
