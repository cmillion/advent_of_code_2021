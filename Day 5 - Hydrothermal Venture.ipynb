{
 "cells": [
  {
   "cell_type": "code",
   "execution_count": 1,
   "id": "6d569f91-6090-4a1d-b1d0-9f349cfeaad8",
   "metadata": {},
   "outputs": [
    {
     "name": "stdout",
     "output_type": "stream",
     "text": [
      "Using matplotlib backend: <object object at 0x110fa8b10>\n",
      "Populating the interactive namespace from numpy and matplotlib\n"
     ]
    }
   ],
   "source": [
    "%pylab\n",
    "%matplotlib inline"
   ]
  },
  {
   "cell_type": "markdown",
   "id": "1918b7e4-deaa-4155-a6a5-cc2461ec6510",
   "metadata": {},
   "source": [
    "### Part 1"
   ]
  },
  {
   "cell_type": "code",
   "execution_count": 2,
   "id": "f2d93a64-de15-41de-bbcf-e510c48edb71",
   "metadata": {},
   "outputs": [],
   "source": [
    "def parse_paths(fn):\n",
    "    paths = []\n",
    "    with open(fn) as data:\n",
    "        for path in data.readlines():\n",
    "            start,_,stop = path.split()\n",
    "            paths += [[eval(start),eval(stop)]]\n",
    "    return paths      "
   ]
  },
  {
   "cell_type": "code",
   "execution_count": 3,
   "id": "39f765a7-19cb-4f1e-89a9-25a772e8b88d",
   "metadata": {},
   "outputs": [
    {
     "name": "stdout",
     "output_type": "stream",
     "text": [
      "[[(0, 9), (5, 9)], [(8, 0), (0, 8)], [(9, 4), (3, 4)], [(2, 2), (2, 1)], [(7, 0), (7, 4)], [(6, 4), (2, 0)], [(0, 9), (2, 9)], [(3, 4), (1, 4)], [(0, 0), (8, 8)], [(5, 5), (8, 2)]]\n"
     ]
    }
   ],
   "source": [
    "print(paths:=parse_paths('d5p1_test.txt'))"
   ]
  },
  {
   "cell_type": "code",
   "execution_count": 4,
   "id": "22c67410-6981-4c1e-8c9b-baf6c96b6361",
   "metadata": {},
   "outputs": [],
   "source": [
    "def map_danger_1(paths):\n",
    "    sz = np.array(paths).max()+1\n",
    "    diagram = np.zeros([sz,sz],dtype='uint32')\n",
    "    for path in paths:\n",
    "        if path[0][0]==path[1][0] or path[0][1]==path[1][1]: # horizonta and vertical\n",
    "            xrange = (min(path[0][0],path[1][0]),\n",
    "                      max(path[0][0],path[1][0]))\n",
    "            yrange = (min(path[0][1],path[1][1]),\n",
    "                      max(path[0][1],path[1][1]))\n",
    "            for i in range(xrange[0],xrange[1]+1):\n",
    "                for j in range(yrange[0],yrange[1]+1):\n",
    "                    diagram[j,i]+=1\n",
    "    return diagram"
   ]
  },
  {
   "cell_type": "code",
   "execution_count": 5,
   "id": "f4bffd5a-2487-40cb-ba98-f9fcdfe59d4a",
   "metadata": {},
   "outputs": [],
   "source": [
    "diagram = map_danger_1(paths)\n",
    "assert len(np.where(diagram>1)[0])==5"
   ]
  },
  {
   "cell_type": "code",
   "execution_count": 6,
   "id": "bb3239ae-39ae-46cf-86c6-e88f617f3ddc",
   "metadata": {},
   "outputs": [
    {
     "name": "stdout",
     "output_type": "stream",
     "text": [
      "The answer is 5124\n"
     ]
    }
   ],
   "source": [
    "paths=parse_paths('d5p1.txt')\n",
    "diagram = map_danger_1(paths)\n",
    "print(f'The answer is {len(np.where(diagram>1)[0])}')"
   ]
  },
  {
   "cell_type": "markdown",
   "id": "411795ef-40cc-4bea-93f6-b7ee91ef6805",
   "metadata": {},
   "source": [
    "### Part 2"
   ]
  },
  {
   "cell_type": "code",
   "execution_count": 7,
   "id": "801d8415-746b-4a42-ac1c-fc7536326c46",
   "metadata": {},
   "outputs": [],
   "source": [
    "def map_danger_2(paths):\n",
    "    sz = np.array(paths).max()+1\n",
    "    diagram = np.zeros([sz,sz],dtype='uint32')\n",
    "    for path in paths:\n",
    "        xrange = (min(path[0][0],path[1][0]),\n",
    "                  max(path[0][0],path[1][0]))\n",
    "        yrange = (min(path[0][1],path[1][1]),\n",
    "                  max(path[0][1],path[1][1]))\n",
    "        if path[0][0]==path[1][0] or path[0][1]==path[1][1]: # horizonta and vertical\n",
    "            xrange = (min(path[0][0],path[1][0]),\n",
    "                      max(path[0][0],path[1][0]))\n",
    "            yrange = (min(path[0][1],path[1][1]),\n",
    "                      max(path[0][1],path[1][1]))\n",
    "            for i in range(xrange[0],xrange[1]+1):\n",
    "                for j in range(yrange[0],yrange[1]+1):\n",
    "                    diagram[j,i]+=1\n",
    "        elif abs(path[0][0]-path[1][0])==abs(path[0][1]-path[1][1]): # must be diagonal by design -- trust but verify\n",
    "            xrange_ = np.arange(xrange[0],xrange[1]+1)\n",
    "            if path[0][0]>path[1][0]:\n",
    "                xrange_ = xrange_[::-1]\n",
    "            yrange_ = np.arange(yrange[0],yrange[1]+1)\n",
    "            if path[0][1]>path[1][1]:\n",
    "                yrange_ = yrange_[::-1]\n",
    "            for pos in zip(xrange_,yrange_):\n",
    "                i,j=pos\n",
    "                diagram[j,i]+=1\n",
    "        else:\n",
    "            print(f'Something is wrong with {path}')\n",
    "    return diagram"
   ]
  },
  {
   "cell_type": "code",
   "execution_count": 8,
   "id": "3800e3c5-c2d2-4ea5-80aa-2ac15530cffa",
   "metadata": {},
   "outputs": [
    {
     "name": "stdout",
     "output_type": "stream",
     "text": [
      "[[1 0 1 0 0 0 0 1 1 0]\n",
      " [0 1 1 1 0 0 0 2 0 0]\n",
      " [0 0 2 0 1 0 1 1 1 0]\n",
      " [0 0 0 1 0 2 0 2 0 0]\n",
      " [0 1 1 2 3 1 3 2 1 1]\n",
      " [0 0 0 1 0 2 0 0 0 0]\n",
      " [0 0 1 0 0 0 1 0 0 0]\n",
      " [0 1 0 0 0 0 0 1 0 0]\n",
      " [1 0 0 0 0 0 0 0 1 0]\n",
      " [2 2 2 1 1 1 0 0 0 0]]\n"
     ]
    }
   ],
   "source": [
    "paths=parse_paths('d5p1_test.txt')\n",
    "diagram = map_danger_2(paths)\n",
    "print(diagram)\n",
    "assert len(np.where(diagram>1)[0])==12"
   ]
  },
  {
   "cell_type": "code",
   "execution_count": 9,
   "id": "df03bd21-a0ff-4967-a7c8-5b9ccbe51376",
   "metadata": {},
   "outputs": [
    {
     "name": "stdout",
     "output_type": "stream",
     "text": [
      "The answer is 19771\n"
     ]
    }
   ],
   "source": [
    "paths=parse_paths('d5p1.txt')\n",
    "diagram = map_danger_2(paths)\n",
    "#print(diagram)\n",
    "print(f'The answer is {len(np.where(diagram>1)[0])}')"
   ]
  },
  {
   "cell_type": "code",
   "execution_count": null,
   "id": "fef9ff3a-8f88-4c89-bbfd-7ed719a66c8a",
   "metadata": {},
   "outputs": [],
   "source": []
  }
 ],
 "metadata": {
  "kernelspec": {
   "display_name": "Python 3 (ipykernel)",
   "language": "python",
   "name": "python3"
  },
  "language_info": {
   "codemirror_mode": {
    "name": "ipython",
    "version": 3
   },
   "file_extension": ".py",
   "mimetype": "text/x-python",
   "name": "python",
   "nbconvert_exporter": "python",
   "pygments_lexer": "ipython3",
   "version": "3.9.7"
  }
 },
 "nbformat": 4,
 "nbformat_minor": 5
}
