{
 "cells": [
  {
   "cell_type": "code",
   "execution_count": 1,
   "id": "485b4b84-6a8a-481a-8353-c833c5ecada9",
   "metadata": {},
   "outputs": [
    {
     "name": "stdout",
     "output_type": "stream",
     "text": [
      "Using matplotlib backend: <object object at 0x110986b10>\n",
      "Populating the interactive namespace from numpy and matplotlib\n"
     ]
    }
   ],
   "source": [
    "%pylab\n",
    "%matplotlib inline"
   ]
  },
  {
   "cell_type": "markdown",
   "id": "be33a078-ec92-42bf-89dc-326f39bcd637",
   "metadata": {},
   "source": [
    "### Part 1"
   ]
  },
  {
   "cell_type": "code",
   "execution_count": 2,
   "id": "a1ec4cf7-c752-4d71-99eb-09e37702af90",
   "metadata": {},
   "outputs": [],
   "source": [
    "ages_test = [3,4,3,1,2]"
   ]
  },
  {
   "cell_type": "code",
   "execution_count": 3,
   "id": "a47f6235-6083-4946-9806-ef34854f749f",
   "metadata": {},
   "outputs": [],
   "source": [
    "def propagate(ages,days=None):\n",
    "    ages = np.array(ages)\n",
    "    for i in range(days):        \n",
    "        ix = np.where(ages==0)\n",
    "        ages-=1\n",
    "        ages[np.where(ages<0)]=6\n",
    "        ages = np.append(ages,np.ones(len(ix[0]))*8)\n",
    "    return ages"
   ]
  },
  {
   "cell_type": "code",
   "execution_count": 4,
   "id": "40b9d7c6-1fc5-4ef6-9440-824a96efb250",
   "metadata": {},
   "outputs": [],
   "source": [
    "assert len(propagate(ages_test,days=18))==26\n",
    "assert len(propagate(ages_test,days=80))==5934"
   ]
  },
  {
   "cell_type": "code",
   "execution_count": 5,
   "id": "57ab1219-3b72-4210-9403-bd711296c2a7",
   "metadata": {},
   "outputs": [],
   "source": [
    "ages = [2,1,1,1,1,1,1,5,1,1,1,1,5,1,1,3,5,1,1,3,1,1,3,1,4,4,4,5,1,1,1,3,1,3,1,1,2,2,1,1,1,5,1,1,1,5,2,5,1,1,2,1,3,3,5,1,1,4,1,1,3,1,1,1,1,1,1,1,1,1,1,1,1,4,1,5,1,2,1,1,1,1,5,1,1,1,1,1,5,1,1,1,4,5,1,1,3,4,1,1,1,3,5,1,1,1,2,1,1,4,1,4,1,2,1,1,2,1,5,1,1,1,5,1,2,2,1,1,1,5,1,2,3,1,1,1,5,3,2,1,1,3,1,1,3,1,3,1,1,1,5,1,1,1,1,1,1,1,3,1,1,1,1,3,1,1,4,1,1,3,2,1,2,1,1,2,2,1,2,1,1,1,4,1,2,4,1,1,4,4,1,1,1,1,1,4,1,1,1,2,1,1,2,1,5,1,1,1,1,1,5,1,3,1,1,2,3,4,4,1,1,1,3,2,4,4,1,1,3,5,1,1,1,1,4,1,1,1,1,1,5,3,1,5,1,1,1,1,1,1,1,1,1,1,1,1,1,1,1,1,1,1,1,1,5,1,1,1,1,1,1,1,1,5,1,4,4,1,1,1,1,1,1,1,1,3,1,3,1,4,1,1,2,2,2,1,1,2,1,1]"
   ]
  },
  {
   "cell_type": "code",
   "execution_count": 6,
   "id": "e903d14a-d387-47a2-9dc8-859075a11197",
   "metadata": {},
   "outputs": [
    {
     "name": "stdout",
     "output_type": "stream",
     "text": [
      "The answer is 388739\n"
     ]
    }
   ],
   "source": [
    "print(f'The answer is {len(propagate(ages,days=80))}')"
   ]
  },
  {
   "cell_type": "markdown",
   "id": "0f3ba6ad-79c5-4a67-96d3-8fcc7456d7c1",
   "metadata": {},
   "source": [
    "### Part 2"
   ]
  },
  {
   "cell_type": "markdown",
   "id": "27591011-2fcd-4f8c-89f4-2f395625bf67",
   "metadata": {},
   "source": [
    "The array explodes in size and becomes too big to fit into memory. So we need to compress it. Note that there are only 9 possible states [0,8] and we only care about how many fish are in each one, because they all evolve identically."
   ]
  },
  {
   "cell_type": "code",
   "execution_count": 7,
   "id": "0f24a96c-52dc-4807-ae9d-5d47b8036216",
   "metadata": {},
   "outputs": [],
   "source": [
    "def propagate_efficiently(ages,days=None):\n",
    "    ages_compressed, _ = np.histogram(ages,bins=9,range=[0,9])\n",
    "    a = ages_compressed.tolist()\n",
    "    for i in range(days):        \n",
    "        spawn = a.pop(0) # remove the spawners at age==0\n",
    "        a+=[spawn] # each spawner generates an offsping at age==8\n",
    "        a[6]+=spawn # each spawner revers to age==6\n",
    "    return a"
   ]
  },
  {
   "cell_type": "code",
   "execution_count": 8,
   "id": "f33a0c11-503b-49c0-aee7-c0ea09bbccf3",
   "metadata": {},
   "outputs": [],
   "source": [
    "assert np.sum(propagate_efficiently(ages_test,days=18))==26\n",
    "assert np.sum(propagate_efficiently(ages_test,days=80))==5934\n",
    "assert np.sum(propagate_efficiently(ages,days=80))==388739"
   ]
  },
  {
   "cell_type": "code",
   "execution_count": 9,
   "id": "237ba263-4423-46d3-a507-442b656f182c",
   "metadata": {},
   "outputs": [
    {
     "name": "stdout",
     "output_type": "stream",
     "text": [
      "The answer is 1741362314973\n"
     ]
    }
   ],
   "source": [
    "print(f'The answer is {np.sum(propagate_efficiently(ages,days=256))}')"
   ]
  },
  {
   "cell_type": "code",
   "execution_count": null,
   "id": "90a3592f-70f7-4809-b742-94373f5e985e",
   "metadata": {},
   "outputs": [],
   "source": []
  }
 ],
 "metadata": {
  "kernelspec": {
   "display_name": "Python 3 (ipykernel)",
   "language": "python",
   "name": "python3"
  },
  "language_info": {
   "codemirror_mode": {
    "name": "ipython",
    "version": 3
   },
   "file_extension": ".py",
   "mimetype": "text/x-python",
   "name": "python",
   "nbconvert_exporter": "python",
   "pygments_lexer": "ipython3",
   "version": "3.9.7"
  }
 },
 "nbformat": 4,
 "nbformat_minor": 5
}
