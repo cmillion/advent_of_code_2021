{
 "cells": [
  {
   "cell_type": "code",
   "execution_count": 1,
   "id": "58e1cad9-25c1-49b9-8735-6e991112783c",
   "metadata": {},
   "outputs": [
    {
     "name": "stdout",
     "output_type": "stream",
     "text": [
      "Using matplotlib backend: <object object at 0x108ca7b10>\n",
      "Populating the interactive namespace from numpy and matplotlib\n"
     ]
    }
   ],
   "source": [
    "%pylab\n",
    "%matplotlib inline"
   ]
  },
  {
   "cell_type": "markdown",
   "id": "20f95f4d-3da2-445d-8f46-6745753deeb3",
   "metadata": {},
   "source": [
    "### Part 1"
   ]
  },
  {
   "cell_type": "code",
   "execution_count": 95,
   "id": "016e29e2-f2f8-466a-9ab3-c35b43843c52",
   "metadata": {},
   "outputs": [],
   "source": [
    "def load_array(fn):\n",
    "    return np.array(\n",
    "        np.loadtxt(fn,comments='fold along',delimiter=','),\n",
    "        dtype='int32')"
   ]
  },
  {
   "cell_type": "code",
   "execution_count": 125,
   "id": "ef979d1b-e07d-45f8-93a2-d36aaaec7664",
   "metadata": {},
   "outputs": [],
   "source": [
    "def fold(fn,instructions):\n",
    "    array = load_array(fn)\n",
    "    sheet = np.zeros((max(array[:,1])+1,max(array[:,0])+1))\n",
    "    for row,col in array:\n",
    "        sheet[col][row]=1\n",
    "    #display(sheet)\n",
    "    for inst in instructions.split('\\n'):\n",
    "        direction,k=inst[11:].split('=')\n",
    "        k = int(k)\n",
    "        #print(np.shape(sheet))\n",
    "        #print(direction,k)\n",
    "        if direction == 'y':\n",
    "            upper = sheet[:k,:]\n",
    "            lower = np.flipud(sheet[k+1:,:])\n",
    "            upper[-k:,:]+=lower\n",
    "            sheet = upper\n",
    "        elif direction == 'x':\n",
    "            left = sheet[:,:k]\n",
    "            right = np.fliplr(sheet[:,k+1:])\n",
    "            left[:,-k:]+=right\n",
    "            sheet = left\n",
    "        #display(sheet)\n",
    "    return sheet"
   ]
  },
  {
   "cell_type": "code",
   "execution_count": 126,
   "id": "95f9720c-5c9b-4053-a81c-871bdc59c01a",
   "metadata": {},
   "outputs": [
    {
     "name": "stdout",
     "output_type": "stream",
     "text": [
      "\n"
     ]
    }
   ],
   "source": [
    "fn = 'd13p1_test.txt'\n",
    "folded = fold(fn,\"\"\"fold along y=7\"\"\")\n",
    "assert len(np.where(folded!=0)[0])==17\n",
    "print('')\n",
    "folded = fold(fn,\"\"\"fold along y=7\\nfold along x=5\"\"\")\n",
    "assert len(np.where(folded!=0)[0])==16"
   ]
  },
  {
   "cell_type": "code",
   "execution_count": 127,
   "id": "91f5230c-4a25-4455-97f3-4c93390c2a60",
   "metadata": {},
   "outputs": [
    {
     "name": "stdout",
     "output_type": "stream",
     "text": [
      "The answer is 743\n"
     ]
    }
   ],
   "source": [
    "fn = 'd13p1.txt'\n",
    "folded = fold(fn,\"\"\"fold along x=655\"\"\")\n",
    "print(f'The answer is {len(np.where(folded!=0)[0])}')"
   ]
  },
  {
   "cell_type": "markdown",
   "id": "c4564138-0b56-46a3-b1a2-e45d11e37afb",
   "metadata": {},
   "source": [
    "### Part 2"
   ]
  },
  {
   "cell_type": "code",
   "execution_count": 136,
   "id": "21355da9-11c5-4fb0-94b6-5d0a4220d66b",
   "metadata": {},
   "outputs": [
    {
     "name": "stderr",
     "output_type": "stream",
     "text": [
      "/var/folders/pm/szdr5c1j3vz19xvrxpps_wfc0000gn/T/ipykernel_12142/2049913438.py:15: RuntimeWarning: divide by zero encountered in log10\n",
      "  plt.imshow(np.log10(folded))\n"
     ]
    },
    {
     "data": {
      "text/plain": [
       "<matplotlib.image.AxesImage at 0x1a024e8e0>"
      ]
     },
     "execution_count": 136,
     "metadata": {},
     "output_type": "execute_result"
    },
    {
     "data": {
      "image/png": "[encoded data removed]",
      "text/plain": [
       "<Figure size 432x288 with 1 Axes>"
      ]
     },
     "metadata": {
      "needs_background": "light"
     },
     "output_type": "display_data"
    }
   ],
   "source": [
    "instructions = \"\"\"fold along x=655\n",
    "fold along y=447\n",
    "fold along x=327\n",
    "fold along y=223\n",
    "fold along x=163\n",
    "fold along y=111\n",
    "fold along x=81\n",
    "fold along y=55\n",
    "fold along x=40\n",
    "fold along y=27\n",
    "fold along y=13\n",
    "fold along y=6\"\"\"\n",
    "\n",
    "folded = fold(fn,instructions)\n",
    "plt.imshow(np.log10(folded))"
   ]
  },
  {
   "cell_type": "code",
   "execution_count": null,
   "id": "3ef125a4-0b66-4c10-85e6-82085dc6567f",
   "metadata": {},
   "outputs": [],
   "source": []
  }
 ],
 "metadata": {
  "kernelspec": {
   "display_name": "Python 3 (ipykernel)",
   "language": "python",
   "name": "python3"
  },
  "language_info": {
   "codemirror_mode": {
    "name": "ipython",
    "version": 3
   },
   "file_extension": ".py",
   "mimetype": "text/x-python",
   "name": "python",
   "nbconvert_exporter": "python",
   "pygments_lexer": "ipython3",
   "version": "3.9.7"
  }
 },
 "nbformat": 4,
 "nbformat_minor": 5
}
